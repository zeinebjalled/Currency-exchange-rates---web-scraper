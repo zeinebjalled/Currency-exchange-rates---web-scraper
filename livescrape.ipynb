{
 "cells": [
  {
   "cell_type": "code",
   "execution_count": 1,
   "id": "957c3e7d",
   "metadata": {},
   "outputs": [],
   "source": [
    "from bs4 import BeautifulSoup\n",
    "import requests \n",
    "import pandas as pd\n",
    "import mysql\n",
    "import configparser"
   ]
  },
  {
   "cell_type": "code",
   "execution_count": 2,
   "id": "4eabe962",
   "metadata": {},
   "outputs": [],
   "source": [
    "content = requests.get('https://www.biat.tn/biat/Fr/cours-de-change_66_127').text "
   ]
  },
  {
   "cell_type": "code",
   "execution_count": 3,
   "id": "ff24b5f4",
   "metadata": {},
   "outputs": [],
   "source": [
    "soup= BeautifulSoup(content,'lxml')"
   ]
  },
  {
   "cell_type": "code",
   "execution_count": 4,
   "id": "33c6a571",
   "metadata": {
    "scrolled": false
   },
   "outputs": [],
   "source": [
    "table_content = soup.find('div', class_='table_conv')"
   ]
  },
  {
   "cell_type": "code",
   "execution_count": 5,
   "id": "a9f566e7",
   "metadata": {
    "scrolled": false
   },
   "outputs": [
    {
     "name": "stdout",
     "output_type": "stream",
     "text": [
      "The table headers are:  ['Désignation', 'Code', 'Unité', 'Achat', 'Vente']\n",
      "{'Désignation': ['Ryal Saoudien', 'Dollar Canadien', 'Couronne Danoise', 'Dirham Emirats Arabe Unis', 'Dollar des Etats-Unis', 'Livre Sterling(2)', 'Yen Japonais', 'Dinar Koweitien', 'Couronne Norvegienne', 'Ryal Quatari', 'Couronne Suedoise', 'Franc Suisse', 'Euro', 'Dinar Bahraini', 'Yuan CHINOIS'], 'Code': ['SAR', 'CAD', 'DKK', 'AED', 'USD', 'GBP', 'JPY', 'KWD', 'NOK', 'QAR', 'SEK', 'CHF', 'EUR', 'BHD', 'CNY'], 'Unité': ['10', '1', '100', '10', '1', '1', '1000', '1', '100', '10', '10', '10', '1', '1', '1'], 'Achat': ['8.468', '2.358', '42.007', '8.587', '3.185', '3.579', '21.978', '10.199', '30.44', '8.599', '2.872', '32.639', '3.153', '8.365', '.447'], 'Vente': ['8.813', '2.456', '43.731', '8.94', '3.289', '3.727', '22.88', '10.618', '31.69', '8.953', '2.991', '33.979', '3.257', '8.709', '.466']}\n"
     ]
    }
   ],
   "source": [
    "data ={}\n",
    "theaders = table_content.find_all('th')\n",
    "for header in theaders:\n",
    "    data[header.text]=[]\n",
    "headers= list(data.keys())\n",
    "print(\"The table headers are: \", headers)\n",
    "\n",
    "trows = table_content.find_all('tr')\n",
    "for row in trows: \n",
    "        row_data_list = row.find_all('td')\n",
    "        for index in range(len(row_data_list)):\n",
    "             data[headers[index]].append(row_data_list[index].text)\n",
    "print(data)\n"
   ]
  },
  {
   "cell_type": "code",
   "execution_count": 6,
   "id": "81cc17e0",
   "metadata": {
    "scrolled": true
   },
   "outputs": [
    {
     "name": "stdout",
     "output_type": "stream",
     "text": [
      "                  Désignation Code Unité   Achat   Vente\n",
      "0               Ryal Saoudien  SAR    10   8.468   8.813\n",
      "1             Dollar Canadien  CAD     1   2.358   2.456\n",
      "2            Couronne Danoise  DKK   100  42.007  43.731\n",
      "3   Dirham Emirats Arabe Unis  AED    10   8.587    8.94\n",
      "4       Dollar des Etats-Unis  USD     1   3.185   3.289\n",
      "5           Livre Sterling(2)  GBP     1   3.579   3.727\n",
      "6                Yen Japonais  JPY  1000  21.978   22.88\n",
      "7             Dinar Koweitien  KWD     1  10.199  10.618\n",
      "8        Couronne Norvegienne  NOK   100   30.44   31.69\n",
      "9                Ryal Quatari  QAR    10   8.599   8.953\n",
      "10          Couronne Suedoise  SEK    10   2.872   2.991\n",
      "11               Franc Suisse  CHF    10  32.639  33.979\n",
      "12                       Euro  EUR     1   3.153   3.257\n",
      "13             Dinar Bahraini  BHD     1   8.365   8.709\n",
      "14               Yuan CHINOIS  CNY     1    .447    .466\n"
     ]
    }
   ],
   "source": [
    "df = pd.DataFrame(data)\n",
    "print(df)"
   ]
  },
  {
   "cell_type": "code",
   "execution_count": 7,
   "id": "1a51a0a9",
   "metadata": {},
   "outputs": [],
   "source": [
    "#saving the data into a csv file\n",
    "#df.to_csv(r'database.csv', index = False)"
   ]
  },
  {
   "cell_type": "code",
   "execution_count": 8,
   "id": "9bc07a14",
   "metadata": {},
   "outputs": [
    {
     "name": "stdout",
     "output_type": "stream",
     "text": [
      "Requirement already satisfied: pymysql in c:\\users\\zaine\\anaconda3\\lib\\site-packages (1.0.2)\n",
      "Note: you may need to restart the kernel to use updated packages.\n"
     ]
    }
   ],
   "source": [
    "pip install pymysql"
   ]
  },
  {
   "cell_type": "code",
   "execution_count": 9,
   "id": "57bed791",
   "metadata": {},
   "outputs": [],
   "source": [
    "import pymysql"
   ]
  },
  {
   "cell_type": "code",
   "execution_count": 10,
   "id": "d62a3810",
   "metadata": {},
   "outputs": [],
   "source": [
    "#insert your data base connection info \n",
    "scrap_db = pymysql.connect(host='XXXXXXXX',user='XXXXXXXX',password='XXXXXXXX',db='XXXXXXXX')"
   ]
  },
  {
   "cell_type": "code",
   "execution_count": 11,
   "id": "0715ea80",
   "metadata": {},
   "outputs": [],
   "source": [
    "cursor = scrap_db.cursor()"
   ]
  },
  {
   "cell_type": "code",
   "execution_count": 12,
   "id": "b3b53669",
   "metadata": {},
   "outputs": [
    {
     "data": {
      "text/plain": [
       "0"
      ]
     },
     "execution_count": 12,
     "metadata": {},
     "output_type": "execute_result"
    }
   ],
   "source": [
    "cursor.execute(\"DROP TABLE IF EXISTS data \")\n",
    "sql = \"\"\" CREATE TABLE data (\n",
    "Désignation CHAR(60),\n",
    "Code CHAR(3),\n",
    "Unité INT,\n",
    "Achat  FLOAT, \n",
    "Vente FLOAT\n",
    ")\n",
    "\"\"\"\n",
    "cursor.execute(sql)"
   ]
  },
  {
   "cell_type": "code",
   "execution_count": 13,
   "id": "1715e273",
   "metadata": {
    "scrolled": true
   },
   "outputs": [],
   "source": [
    "for index, row in df.iterrows(): \n",
    "    query = \"INSERT INTO data (Désignation, Code, Unité, Achat ,Vente)  VALUES (%s, %s, %s, %s ,%s)\"\n",
    "    cursor.execute(query,tuple(row.values))\n",
    "\n",
    "scrap_db.commit()\n",
    "scrap_db.close()"
   ]
  }
 ],
 "metadata": {
  "kernelspec": {
   "display_name": "Python 3 (ipykernel)",
   "language": "python",
   "name": "python3"
  },
  "language_info": {
   "codemirror_mode": {
    "name": "ipython",
    "version": 3
   },
   "file_extension": ".py",
   "mimetype": "text/x-python",
   "name": "python",
   "nbconvert_exporter": "python",
   "pygments_lexer": "ipython3",
   "version": "3.9.7"
  }
 },
 "nbformat": 4,
 "nbformat_minor": 5
}
