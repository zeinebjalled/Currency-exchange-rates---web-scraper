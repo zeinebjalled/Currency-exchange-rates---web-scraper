{
 "cells": [
  {
   "cell_type": "code",
   "execution_count": 2,
   "id": "957c3e7d",
   "metadata": {},
   "outputs": [],
   "source": [
    "from bs4 import BeautifulSoup"
   ]
  },
  {
   "cell_type": "code",
   "execution_count": 4,
   "id": "2f35f1f0",
   "metadata": {},
   "outputs": [],
   "source": [
    "import requests"
   ]
  },
  {
   "cell_type": "code",
   "execution_count": 35,
   "id": "4eabe962",
   "metadata": {},
   "outputs": [],
   "source": [
    "content = requests.get('https://www.biat.tn/biat/Fr/cours-de-change_66_127').text "
   ]
  },
  {
   "cell_type": "code",
   "execution_count": 23,
   "id": "12804bb4",
   "metadata": {},
   "outputs": [
    {
     "name": "stdout",
     "output_type": "stream",
     "text": [
      "<Response [200]>\n"
     ]
    }
   ],
   "source": [
    "print(content)"
   ]
  },
  {
   "cell_type": "code",
   "execution_count": 36,
   "id": "ff24b5f4",
   "metadata": {},
   "outputs": [],
   "source": [
    "soup= BeautifulSoup(content,'lxml')"
   ]
  },
  {
   "cell_type": "code",
   "execution_count": 37,
   "id": "33c6a571",
   "metadata": {
    "scrolled": false
   },
   "outputs": [
    {
     "name": "stdout",
     "output_type": "stream",
     "text": [
      "<div class=\"table_conv\">\n",
      "<table cellpadding=\"0\" cellspacing=\"0\" width=\"100%\">\n",
      "<thead>\n",
      "<tr>\n",
      "<th class=\"first\">Désignation</th>\n",
      "<th>Code</th>\n",
      "<th>Unité</th>\n",
      "<th>Achat</th>\n",
      "<th class=\"last\">Vente</th>\n",
      "</tr>\n",
      "</thead>\n",
      "<tbody>\n",
      "<tr>\n",
      "<td>Ryal Saoudien</td>\n",
      "<td>SAR</td>\n",
      "<td>10</td>\n",
      "<td>8.42</td>\n",
      "<td>8.763</td>\n",
      "</tr>\n",
      "<tr>\n",
      "<td>Dollar Canadien</td>\n",
      "<td>CAD</td>\n",
      "<td>1</td>\n",
      "<td>2.389</td>\n",
      "<td>2.488</td>\n",
      "</tr>\n",
      "<tr>\n",
      "<td>Couronne Danoise</td>\n",
      "<td>DKK</td>\n",
      "<td>100</td>\n",
      "<td>42.143</td>\n",
      "<td>43.873</td>\n",
      "</tr>\n",
      "<tr>\n",
      "<td>Dirham Emirats Arabe Unis</td>\n",
      "<td>AED</td>\n",
      "<td>10</td>\n",
      "<td>8.534</td>\n",
      "<td>8.885</td>\n",
      "</tr>\n",
      "<tr>\n",
      "<td>Dollar des Etats-Unis</td>\n",
      "<td>USD</td>\n",
      "<td>1</td>\n",
      "<td>3.165</td>\n",
      "<td>3.269</td>\n",
      "</tr>\n",
      "<tr>\n",
      "<td>Livre Sterling(2)</td>\n",
      "<td>GBP</td>\n",
      "<td>1</td>\n",
      "<td>3.606</td>\n",
      "<td>3.755</td>\n",
      "</tr>\n",
      "<tr>\n",
      "<td>Yen Japonais</td>\n",
      "<td>JPY</td>\n",
      "<td>1000</td>\n",
      "<td>21.81</td>\n",
      "<td>22.706</td>\n",
      "</tr>\n",
      "<tr>\n",
      "<td>Dinar Koweitien</td>\n",
      "<td>KWD</td>\n",
      "<td>1</td>\n",
      "<td>10.15</td>\n",
      "<td>10.567</td>\n",
      "</tr>\n",
      "<tr>\n",
      "<td>Couronne Norvegienne</td>\n",
      "<td>NOK</td>\n",
      "<td>100</td>\n",
      "<td>31.336</td>\n",
      "<td>32.622</td>\n",
      "</tr>\n",
      "<tr>\n",
      "<td>Ryal Quatari</td>\n",
      "<td>QAR</td>\n",
      "<td>10</td>\n",
      "<td>8.546</td>\n",
      "<td>8.898</td>\n",
      "</tr>\n",
      "<tr>\n",
      "<td>Couronne Suedoise</td>\n",
      "<td>SEK</td>\n",
      "<td>10</td>\n",
      "<td>2.929</td>\n",
      "<td>3.05</td>\n",
      "</tr>\n",
      "<tr>\n",
      "<td>Franc Suisse</td>\n",
      "<td>CHF</td>\n",
      "<td>10</td>\n",
      "<td>32.096</td>\n",
      "<td>33.413</td>\n",
      "</tr>\n",
      "<tr>\n",
      "<td>Euro</td>\n",
      "<td>EUR</td>\n",
      "<td>1</td>\n",
      "<td>3.164</td>\n",
      "<td>3.268</td>\n",
      "</tr>\n",
      "<tr>\n",
      "<td>Dinar Bahraini</td>\n",
      "<td>BHD</td>\n",
      "<td>1</td>\n",
      "<td>8.313</td>\n",
      "<td>8.655</td>\n",
      "</tr>\n",
      "<tr>\n",
      "<td>Yuan CHINOIS</td>\n",
      "<td>CNY</td>\n",
      "<td>1</td>\n",
      "<td>.45</td>\n",
      "<td>.47</td>\n",
      "</tr>\n",
      "</tbody>\n",
      "</table>\n",
      "</div>\n"
     ]
    }
   ],
   "source": [
    "table_content = soup.find('div', class_='table_conv')\n",
    "print (table_content)"
   ]
  },
  {
   "cell_type": "code",
   "execution_count": 63,
   "id": "a9f566e7",
   "metadata": {
    "scrolled": true
   },
   "outputs": [
    {
     "name": "stdout",
     "output_type": "stream",
     "text": [
      "les attributs sont:\n",
      "\n",
      "Désignation\n",
      "Code\n",
      "Unité\n",
      "Achat\n",
      "Vente\n"
     ]
    }
   ],
   "source": [
    "print ('les attributs sont:\\n')\n",
    "for content in table_content: \n",
    "    change = table_content.find_all('th')\n",
    "for h in change:\n",
    "    headers = h.text\n",
    "    print (headers)"
   ]
  },
  {
   "cell_type": "code",
   "execution_count": 58,
   "id": "ae19ceb6",
   "metadata": {},
   "outputs": [
    {
     "name": "stdout",
     "output_type": "stream",
     "text": [
      "Ryal Saoudien\n",
      "SAR\n",
      "10\n",
      "8.42\n",
      "8.763\n",
      "Dollar Canadien\n",
      "CAD\n",
      "1\n",
      "2.389\n",
      "2.488\n",
      "Couronne Danoise\n",
      "DKK\n",
      "100\n",
      "42.143\n",
      "43.873\n",
      "Dirham Emirats Arabe Unis\n",
      "AED\n",
      "10\n",
      "8.534\n",
      "8.885\n",
      "Dollar des Etats-Unis\n",
      "USD\n",
      "1\n",
      "3.165\n",
      "3.269\n",
      "Livre Sterling(2)\n",
      "GBP\n",
      "1\n",
      "3.606\n",
      "3.755\n",
      "Yen Japonais\n",
      "JPY\n",
      "1000\n",
      "21.81\n",
      "22.706\n",
      "Dinar Koweitien\n",
      "KWD\n",
      "1\n",
      "10.15\n",
      "10.567\n",
      "Couronne Norvegienne\n",
      "NOK\n",
      "100\n",
      "31.336\n",
      "32.622\n",
      "Ryal Quatari\n",
      "QAR\n",
      "10\n",
      "8.546\n",
      "8.898\n",
      "Couronne Suedoise\n",
      "SEK\n",
      "10\n",
      "2.929\n",
      "3.05\n",
      "Franc Suisse\n",
      "CHF\n",
      "10\n",
      "32.096\n",
      "33.413\n",
      "Euro\n",
      "EUR\n",
      "1\n",
      "3.164\n",
      "3.268\n",
      "Dinar Bahraini\n",
      "BHD\n",
      "1\n",
      "8.313\n",
      "8.655\n",
      "Yuan CHINOIS\n",
      "CNY\n",
      "1\n",
      ".45\n",
      ".47\n"
     ]
    }
   ],
   "source": [
    "change = table_content.find_all('tr')\n",
    "for a in change: \n",
    "        currency = a.find_all('td')\n",
    "        for currency_text in currency:\n",
    "            print (currency_text.text)"
   ]
  },
  {
   "cell_type": "code",
   "execution_count": null,
   "id": "57361c36",
   "metadata": {},
   "outputs": [],
   "source": []
  }
 ],
 "metadata": {
  "kernelspec": {
   "display_name": "Python 3 (ipykernel)",
   "language": "python",
   "name": "python3"
  },
  "language_info": {
   "codemirror_mode": {
    "name": "ipython",
    "version": 3
   },
   "file_extension": ".py",
   "mimetype": "text/x-python",
   "name": "python",
   "nbconvert_exporter": "python",
   "pygments_lexer": "ipython3",
   "version": "3.9.7"
  }
 },
 "nbformat": 4,
 "nbformat_minor": 5
}
