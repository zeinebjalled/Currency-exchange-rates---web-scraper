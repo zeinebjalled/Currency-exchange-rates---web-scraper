{
 "cells": [
  {
   "cell_type": "code",
   "execution_count": 1,
   "id": "957c3e7d",
   "metadata": {},
   "outputs": [],
   "source": [
    "from bs4 import BeautifulSoup\n",
    "import requests \n",
    "import pandas as pd\n",
    "import mysql\n",
    "import time\n",
    "import datetime\n",
    "import configparser\n",
    "import pymysql"
   ]
  },
  {
   "cell_type": "code",
   "execution_count": 2,
   "id": "4eabe962",
   "metadata": {},
   "outputs": [],
   "source": [
    "def extract_currency_table(url):\n",
    "    content = requests.get(url).text \n",
    "    soup= BeautifulSoup(content,'lxml')\n",
    "    table_content = soup.find('div', class_='table_conv')\n",
    "    return table_content "
   ]
  },
  {
   "cell_type": "code",
   "execution_count": 3,
   "id": "a9f566e7",
   "metadata": {
    "scrolled": false
   },
   "outputs": [],
   "source": [
    "def extract_currency_data(table_content):\n",
    "    data ={}\n",
    "    theaders = table_content.find_all('th')\n",
    "    for header in theaders:\n",
    "        data[header.text]=[]\n",
    "    headers= list(data.keys())\n",
    "    #print(\"The table headers are: \", headers)\n",
    "\n",
    "    trows = table_content.find_all('tr')\n",
    "    for row in trows: \n",
    "            row_data_list = row.find_all('td')\n",
    "            for index in range(len(row_data_list)):\n",
    "                 data[headers[index]].append(row_data_list[index].text)\n",
    "    #print(data)\n",
    "    return data \n"
   ]
  },
  {
   "cell_type": "code",
   "execution_count": 4,
   "id": "1a51a0a9",
   "metadata": {},
   "outputs": [],
   "source": [
    "#saving the data into a csv file\n",
    "#df.to_csv(r'database.csv', index = False)"
   ]
  },
  {
   "cell_type": "code",
   "execution_count": 5,
   "id": "ad6702e5",
   "metadata": {},
   "outputs": [],
   "source": [
    "#insert your data base connection info \n",
    "def create_database():\n",
    "    return  pymysql.connect(host='localhost',user='root',password='Zeineb2001///',db='data_base')"
   ]
  },
  {
   "cell_type": "code",
   "execution_count": 6,
   "id": "4e2c061a",
   "metadata": {},
   "outputs": [],
   "source": [
    "#db = create_database()\n",
    "def create_table(db):\n",
    "    cursor = db.cursor()\n",
    "    sql = \"\"\" CREATE TABLE IF NOT EXISTS data (\n",
    "    Désignation CHAR(60),\n",
    "    Code CHAR(3),\n",
    "    Unité INT,\n",
    "    Achat  FLOAT, \n",
    "    Vente FLOAT, \n",
    "    Date DATE\n",
    "    )\n",
    "    \"\"\"\n",
    "    cursor.execute(sql)\n",
    "    db.commit()\n",
    "    cursor.close()"
   ]
  },
  {
   "cell_type": "code",
   "execution_count": 7,
   "id": "a46be8e9",
   "metadata": {},
   "outputs": [],
   "source": [
    "def insert_data (db,df):\n",
    "    cursor = db.cursor()\n",
    "    time_stamp = datetime.datetime.now()\n",
    "    Date = time_stamp.strftime(\"%Y-%m-%d\")\n",
    "    print(Date)\n",
    "    for index, row in df.iterrows():\n",
    "        query = \"INSERT INTO data ( Désignation, Code, Unité, Achat ,Vente, Date) VALUES (%s,%s, %s, %s, %s ,%s)\"\n",
    "        series= pd.Series ([Date])\n",
    "        row=row.append(series)\n",
    "        print(row)\n",
    "        cursor.execute(query,tuple(row.values))\n",
    "    db.commit()\n",
    "    cursor.close()    "
   ]
  },
  {
   "cell_type": "code",
   "execution_count": 8,
   "id": "6503b899",
   "metadata": {},
   "outputs": [],
   "source": [
    "#if db.open:\n",
    " #   print('yes')"
   ]
  },
  {
   "cell_type": "code",
   "execution_count": null,
   "id": "74a127f7",
   "metadata": {
    "scrolled": false
   },
   "outputs": [
    {
     "name": "stdout",
     "output_type": "stream",
     "text": [
      "2022-09-25\n",
      "Désignation    Ryal Saoudien\n",
      "Code                     SAR\n",
      "Unité                     10\n",
      "Achat                  8.521\n",
      "Vente                  8.869\n",
      "0                 2022-09-25\n",
      "dtype: object\n",
      "Désignation    Dollar Canadien\n",
      "Code                       CAD\n",
      "Unité                        1\n",
      "Achat                    2.349\n",
      "Vente                    2.447\n",
      "0                   2022-09-25\n",
      "dtype: object\n",
      "Désignation    Couronne Danoise\n",
      "Code                        DKK\n",
      "Unité                       100\n",
      "Achat                    41.789\n",
      "Vente                    43.504\n",
      "0                    2022-09-25\n",
      "dtype: object\n",
      "Désignation    Dirham Emirats Arabe Unis\n",
      "Code                                 AED\n",
      "Unité                                 10\n",
      "Achat                              8.641\n",
      "Vente                              8.997\n",
      "0                             2022-09-25\n",
      "dtype: object\n",
      "Désignation    Dollar des Etats-Unis\n",
      "Code                             USD\n",
      "Unité                              1\n",
      "Achat                          3.205\n",
      "Vente                           3.31\n",
      "0                         2022-09-25\n",
      "dtype: object\n",
      "Désignation    Livre Sterling(2)\n",
      "Code                         GBP\n",
      "Unité                          1\n",
      "Achat                      3.551\n",
      "Vente                      3.697\n",
      "0                     2022-09-25\n",
      "dtype: object\n",
      "Désignation    Yen Japonais\n",
      "Code                    JPY\n",
      "Unité                  1000\n",
      "Achat                22.313\n",
      "Vente                 23.23\n",
      "0                2022-09-25\n",
      "dtype: object\n",
      "Désignation    Dinar Koweitien\n",
      "Code                       KWD\n",
      "Unité                        1\n",
      "Achat                   10.242\n",
      "Vente                   10.663\n",
      "0                   2022-09-25\n",
      "dtype: object\n",
      "Désignation    Couronne Norvegienne\n",
      "Code                            NOK\n",
      "Unité                           100\n",
      "Achat                        30.381\n",
      "Vente                        31.628\n",
      "0                        2022-09-25\n",
      "dtype: object\n",
      "Désignation    Ryal Quatari\n",
      "Code                    QAR\n",
      "Unité                    10\n",
      "Achat                 8.654\n",
      "Vente                  9.01\n",
      "0                2022-09-25\n",
      "dtype: object\n",
      "Désignation    Couronne Suedoise\n",
      "Code                         SEK\n",
      "Unité                         10\n",
      "Achat                       2.85\n",
      "Vente                      2.968\n",
      "0                     2022-09-25\n",
      "dtype: object\n",
      "Désignation    Franc Suisse\n",
      "Code                    CHF\n",
      "Unité                    10\n",
      "Achat                32.392\n",
      "Vente                33.722\n",
      "0                2022-09-25\n",
      "dtype: object\n",
      "Désignation          Euro\n",
      "Code                  EUR\n",
      "Unité                   1\n",
      "Achat               3.137\n",
      "Vente                3.24\n",
      "0              2022-09-25\n",
      "dtype: object\n",
      "Désignation    Dinar Bahraini\n",
      "Code                      BHD\n",
      "Unité                       1\n",
      "Achat                   8.418\n",
      "Vente                   8.764\n",
      "0                  2022-09-25\n",
      "dtype: object\n",
      "Désignation    Yuan CHINOIS\n",
      "Code                    CNY\n",
      "Unité                     1\n",
      "Achat                  .446\n",
      "Vente                  .466\n",
      "0                2022-09-25\n",
      "dtype: object\n"
     ]
    }
   ],
   "source": [
    "url = 'https://www.biat.tn/biat/Fr/cours-de-change_66_127'\n",
    "db= create_database()\n",
    "create_table(db)\n",
    "for a in range(2):\n",
    "    table_content= extract_currency_table(url)\n",
    "    data=extract_currency_data(table_content)\n",
    "    df = pd.DataFrame(data)\n",
    "    insert_data (db,df) \n",
    "    #define the amount of time you want your program to sleep in seconds, here 86400s = 24H \n",
    "    time.sleep(60*60*24)\n",
    "db.close()      "
   ]
  },
  {
   "cell_type": "code",
   "execution_count": null,
   "id": "15f0c517",
   "metadata": {},
   "outputs": [],
   "source": []
  }
 ],
 "metadata": {
  "kernelspec": {
   "display_name": "Python 3 (ipykernel)",
   "language": "python",
   "name": "python3"
  },
  "language_info": {
   "codemirror_mode": {
    "name": "ipython",
    "version": 3
   },
   "file_extension": ".py",
   "mimetype": "text/x-python",
   "name": "python",
   "nbconvert_exporter": "python",
   "pygments_lexer": "ipython3",
   "version": "3.9.7"
  }
 },
 "nbformat": 4,
 "nbformat_minor": 5
}
