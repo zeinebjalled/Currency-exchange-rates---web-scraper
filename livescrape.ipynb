{
 "cells": [
  {
   "cell_type": "code",
   "execution_count": 1,
   "id": "957c3e7d",
   "metadata": {},
   "outputs": [],
   "source": [
    "from bs4 import BeautifulSoup\n",
    "import requests \n",
    "import pandas as pd"
   ]
  },
  {
   "cell_type": "code",
   "execution_count": 2,
   "id": "4eabe962",
   "metadata": {},
   "outputs": [],
   "source": [
    "content = requests.get('https://www.biat.tn/biat/Fr/cours-de-change_66_127').text "
   ]
  },
  {
   "cell_type": "code",
   "execution_count": 3,
   "id": "ff24b5f4",
   "metadata": {},
   "outputs": [],
   "source": [
    "soup= BeautifulSoup(content,'lxml')"
   ]
  },
  {
   "cell_type": "code",
   "execution_count": 4,
   "id": "33c6a571",
   "metadata": {
    "scrolled": false
   },
   "outputs": [],
   "source": [
    "table_content = soup.find('div', class_='table_conv')"
   ]
  },
  {
   "cell_type": "code",
   "execution_count": 5,
   "id": "a9f566e7",
   "metadata": {
    "scrolled": true
   },
   "outputs": [
    {
     "name": "stdout",
     "output_type": "stream",
     "text": [
      "['Désignation', 'Code', 'Unité', 'Achat', 'Vente']\n",
      "{'Désignation': ['Ryal Saoudien', 'Dollar Canadien', 'Couronne Danoise', 'Dirham Emirats Arabe Unis', 'Dollar des Etats-Unis', 'Livre Sterling(2)', 'Yen Japonais', 'Dinar Koweitien', 'Couronne Norvegienne', 'Ryal Quatari', 'Couronne Suedoise', 'Franc Suisse', 'Euro', 'Dinar Bahraini', 'Yuan CHINOIS'], 'Code': ['SAR', 'CAD', 'DKK', 'AED', 'USD', 'GBP', 'JPY', 'KWD', 'NOK', 'QAR', 'SEK', 'CHF', 'EUR', 'BHD', 'CNY'], 'Unité': ['10', '1', '100', '10', '1', '1', '1000', '1', '100', '10', '10', '10', '1', '1', '1'], 'Achat': ['8.326', '2.388', '42.319', '8.439', '3.13', '3.634', '21.783', '10.062', '31.546', '8.451', '2.964', '32.602', '3.177', '8.222', '.447'], 'Vente': ['8.665', '2.487', '44.056', '8.786', '3.232', '3.784', '22.678', '10.476', '32.841', '8.798', '3.086', '33.941', '3.281', '8.56', '.467']}\n"
     ]
    }
   ],
   "source": [
    "data ={}\n",
    "for content in table_content: \n",
    "    theaders = table_content.find_all('th')\n",
    "for header in theaders:\n",
    "    data[header.text]=[]\n",
    "headers= list(data.keys())\n",
    "print(headers)\n",
    "\n",
    "trows = table_content.find_all('tr')\n",
    "for row in trows: \n",
    "        row_data_list = row.find_all('td')\n",
    "        for index in range(len(row_data_list)):\n",
    "             data[headers[index]].append(row_data_list[index].text)\n",
    "print(data)\n"
   ]
  },
  {
   "cell_type": "code",
   "execution_count": 6,
   "id": "81cc17e0",
   "metadata": {},
   "outputs": [
    {
     "name": "stdout",
     "output_type": "stream",
     "text": [
      "                  Désignation Code Unité   Achat   Vente\n",
      "0               Ryal Saoudien  SAR    10   8.326   8.665\n",
      "1             Dollar Canadien  CAD     1   2.388   2.487\n",
      "2            Couronne Danoise  DKK   100  42.319  44.056\n",
      "3   Dirham Emirats Arabe Unis  AED    10   8.439   8.786\n",
      "4       Dollar des Etats-Unis  USD     1    3.13   3.232\n",
      "5           Livre Sterling(2)  GBP     1   3.634   3.784\n",
      "6                Yen Japonais  JPY  1000  21.783  22.678\n",
      "7             Dinar Koweitien  KWD     1  10.062  10.476\n",
      "8        Couronne Norvegienne  NOK   100  31.546  32.841\n",
      "9                Ryal Quatari  QAR    10   8.451   8.798\n",
      "10          Couronne Suedoise  SEK    10   2.964   3.086\n",
      "11               Franc Suisse  CHF    10  32.602  33.941\n",
      "12                       Euro  EUR     1   3.177   3.281\n",
      "13             Dinar Bahraini  BHD     1   8.222    8.56\n",
      "14               Yuan CHINOIS  CNY     1    .447    .467\n"
     ]
    }
   ],
   "source": [
    "df = pd.DataFrame(data)\n",
    "print(df)\n"
   ]
  },
  {
   "cell_type": "code",
   "execution_count": 7,
   "id": "1a51a0a9",
   "metadata": {},
   "outputs": [],
   "source": [
    "df.to_csv(r'C:\\Users\\zaine\\Desktop\\stage\\database.csv', index = False)"
   ]
  }
 ],
 "metadata": {
  "kernelspec": {
   "display_name": "Python 3 (ipykernel)",
   "language": "python",
   "name": "python3"
  },
  "language_info": {
   "codemirror_mode": {
    "name": "ipython",
    "version": 3
   },
   "file_extension": ".py",
   "mimetype": "text/x-python",
   "name": "python",
   "nbconvert_exporter": "python",
   "pygments_lexer": "ipython3",
   "version": "3.9.7"
  }
 },
 "nbformat": 4,
 "nbformat_minor": 5
}
